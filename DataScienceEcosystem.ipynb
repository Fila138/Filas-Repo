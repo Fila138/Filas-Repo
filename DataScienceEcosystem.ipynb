{
 "cells": [
  {
   "cell_type": "markdown",
   "id": "be59b237",
   "metadata": {},
   "source": [
    "# Data Science Tools and Ecosystem"
   ]
  },
  {
   "cell_type": "markdown",
   "id": "27c36c5c",
   "metadata": {},
   "source": [
    "In this notebook, Data Science Tools and Ecosystem are summarized."
   ]
  },
  {
   "cell_type": "markdown",
   "id": "dc193dfd",
   "metadata": {},
   "source": [
    "**Objetives:**\n",
    "* List languages and libraries used in data science\n",
    "* List some Data Science Tools\n",
    "* Show examples of evaluating arithmetic expressions in Python"
   ]
  },
  {
   "cell_type": "markdown",
   "id": "65b52db9",
   "metadata": {},
   "source": [
    "Commonly used languages for data science are:\n",
    "1. Python\n",
    "2. R\n",
    "3. SQL"
   ]
  },
  {
   "cell_type": "markdown",
   "id": "f85d884b",
   "metadata": {},
   "source": [
    "Some of the libraries used by data scientists are:\n",
    "1. ggplot2\n",
    "2. matplot\n",
    "3. seaborn"
   ]
  },
  {
   "cell_type": "markdown",
   "id": "8774aba3",
   "metadata": {},
   "source": [
    "|Data Science Tool|\n",
    "|-----------------|\n",
    "|Jupyter Notebook|\n",
    "|GitHub|\n",
    "|R Studio|"
   ]
  },
  {
   "cell_type": "markdown",
   "id": "997c3ab5",
   "metadata": {},
   "source": [
    "### This are a few examples of evaluating arithmetic expressions in Python"
   ]
  },
  {
   "cell_type": "code",
   "execution_count": 9,
   "id": "b39a3f23",
   "metadata": {},
   "outputs": [
    {
     "data": {
      "text/plain": [
       "17"
      ]
     },
     "execution_count": 9,
     "metadata": {},
     "output_type": "execute_result"
    }
   ],
   "source": [
    "# This is a arithmetic expression in Python\n",
    "(3*4)+5"
   ]
  },
  {
   "cell_type": "code",
   "execution_count": 10,
   "id": "f884651c",
   "metadata": {},
   "outputs": [
    {
     "name": "stdout",
     "output_type": "stream",
     "text": [
      "3.3333333333333335\n"
     ]
    }
   ],
   "source": [
    "# this will convert 200 minutes to hours\n",
    "m = 200\n",
    "h = m/60\n",
    "print(h)"
   ]
  },
  {
   "cell_type": "markdown",
   "id": "14d775c7",
   "metadata": {},
   "source": [
    "## Author:\n",
    "Jose Filadelfo Rodriguez"
   ]
  }
 ],
 "metadata": {
  "kernelspec": {
   "display_name": "Python 3 (ipykernel)",
   "language": "python",
   "name": "python3"
  },
  "language_info": {
   "codemirror_mode": {
    "name": "ipython",
    "version": 3
   },
   "file_extension": ".py",
   "mimetype": "text/x-python",
   "name": "python",
   "nbconvert_exporter": "python",
   "pygments_lexer": "ipython3",
   "version": "3.11.4"
  }
 },
 "nbformat": 4,
 "nbformat_minor": 5
}
